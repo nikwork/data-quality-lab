{
 "cells": [
  {
   "attachments": {},
   "cell_type": "markdown",
   "metadata": {},
   "source": [
    "# Usage of Population Stability (PSI) Index in Data Quality tasks.\n",
    "The PSI is a widely used statistic that measures how much a variable has shifted over time. A high PSI may alert the business to a change in the characteristics of a population. PSI is commonly used to measure the shift between control data and current data."
   ]
  },
  {
   "cell_type": "code",
   "execution_count": 1,
   "metadata": {},
   "outputs": [
    {
     "name": "stdout",
     "output_type": "stream",
     "text": [
      "Warning: Your Kaggle API key is readable by other users on this system! To fix this, you can run 'chmod 600 /Users/nikolai/.kaggle/kaggle.json'\n",
      "Warning: Your Kaggle API key is readable by other users on this system! To fix this, you can run 'chmod 600 /Users/nikolai/.kaggle/kaggle.json'\n"
     ]
    }
   ],
   "source": [
    "import numpy as np\n",
    "import pandas as pd\n",
    "from kaggle.api.kaggle_api_extended import KaggleApi\n",
    "api = KaggleApi()\n",
    "api.authenticate()"
   ]
  },
  {
   "attachments": {},
   "cell_type": "markdown",
   "metadata": {},
   "source": [
    "### Download data"
   ]
  },
  {
   "cell_type": "code",
   "execution_count": 2,
   "metadata": {},
   "outputs": [],
   "source": [
    "dataset = \"olistbr/brazilian-ecommerce\"\n",
    "api.dataset_download_files(dataset, path=\"data/olistbr/\", unzip=True)"
   ]
  },
  {
   "attachments": {},
   "cell_type": "markdown",
   "metadata": {},
   "source": [
    "### Read to pandas"
   ]
  },
  {
   "cell_type": "code",
   "execution_count": 3,
   "metadata": {},
   "outputs": [
    {
     "data": {
      "text/plain": [
       "(103886, 5)"
      ]
     },
     "execution_count": 3,
     "metadata": {},
     "output_type": "execute_result"
    }
   ],
   "source": [
    "payments_df = pd.read_csv(\"data/olistbr/olist_order_payments_dataset.csv\")\n",
    "payments_df.shape"
   ]
  },
  {
   "cell_type": "code",
   "execution_count": 4,
   "metadata": {},
   "outputs": [
    {
     "data": {
      "text/plain": [
       "order_id                         object\n",
       "customer_id                      object\n",
       "order_status                     object\n",
       "order_purchase_timestamp         object\n",
       "order_approved_at                object\n",
       "order_delivered_carrier_date     object\n",
       "order_delivered_customer_date    object\n",
       "order_estimated_delivery_date    object\n",
       "dtype: object"
      ]
     },
     "execution_count": 4,
     "metadata": {},
     "output_type": "execute_result"
    }
   ],
   "source": [
    "orders_df = pd.read_csv(\"data/olistbr/olist_orders_dataset.csv\")\n",
    "orders_df.dtypes"
   ]
  },
  {
   "cell_type": "code",
   "execution_count": 5,
   "metadata": {},
   "outputs": [
    {
     "data": {
      "text/plain": [
       "(103886, 12)"
      ]
     },
     "execution_count": 5,
     "metadata": {},
     "output_type": "execute_result"
    }
   ],
   "source": [
    "payments_orders_df = payments_df.merge(orders_df, on='order_id', how='left')\n",
    "payments_orders_df.shape"
   ]
  },
  {
   "cell_type": "code",
   "execution_count": 6,
   "metadata": {},
   "outputs": [
    {
     "data": {
      "text/html": [
       "<div>\n",
       "<style scoped>\n",
       "    .dataframe tbody tr th:only-of-type {\n",
       "        vertical-align: middle;\n",
       "    }\n",
       "\n",
       "    .dataframe tbody tr th {\n",
       "        vertical-align: top;\n",
       "    }\n",
       "\n",
       "    .dataframe thead th {\n",
       "        text-align: right;\n",
       "    }\n",
       "</style>\n",
       "<table border=\"1\" class=\"dataframe\">\n",
       "  <thead>\n",
       "    <tr style=\"text-align: right;\">\n",
       "      <th></th>\n",
       "      <th>order_id</th>\n",
       "      <th>payment_sequential</th>\n",
       "      <th>payment_type</th>\n",
       "      <th>payment_installments</th>\n",
       "      <th>payment_value</th>\n",
       "      <th>customer_id</th>\n",
       "      <th>order_status</th>\n",
       "      <th>order_purchase_timestamp</th>\n",
       "      <th>order_approved_at</th>\n",
       "      <th>order_delivered_carrier_date</th>\n",
       "      <th>order_delivered_customer_date</th>\n",
       "      <th>order_estimated_delivery_date</th>\n",
       "    </tr>\n",
       "  </thead>\n",
       "  <tbody>\n",
       "    <tr>\n",
       "      <th>0</th>\n",
       "      <td>b81ef226f3fe1789b1e8b2acac839d17</td>\n",
       "      <td>1</td>\n",
       "      <td>credit_card</td>\n",
       "      <td>8</td>\n",
       "      <td>99.33</td>\n",
       "      <td>0a8556ac6be836b46b3e89920d59291c</td>\n",
       "      <td>delivered</td>\n",
       "      <td>2018-04-25 22:01:49</td>\n",
       "      <td>2018-04-25 22:15:09</td>\n",
       "      <td>2018-05-02 15:20:00</td>\n",
       "      <td>2018-05-09 17:36:51</td>\n",
       "      <td>2018-05-22 00:00:00</td>\n",
       "    </tr>\n",
       "    <tr>\n",
       "      <th>1</th>\n",
       "      <td>a9810da82917af2d9aefd1278f1dcfa0</td>\n",
       "      <td>1</td>\n",
       "      <td>credit_card</td>\n",
       "      <td>1</td>\n",
       "      <td>24.39</td>\n",
       "      <td>f2c7fc58a9de810828715166c672f10a</td>\n",
       "      <td>delivered</td>\n",
       "      <td>2018-06-26 11:01:38</td>\n",
       "      <td>2018-06-26 11:18:58</td>\n",
       "      <td>2018-06-28 14:18:00</td>\n",
       "      <td>2018-06-29 20:32:09</td>\n",
       "      <td>2018-07-16 00:00:00</td>\n",
       "    </tr>\n",
       "    <tr>\n",
       "      <th>2</th>\n",
       "      <td>25e8ea4e93396b6fa0d3dd708e76c1bd</td>\n",
       "      <td>1</td>\n",
       "      <td>credit_card</td>\n",
       "      <td>1</td>\n",
       "      <td>65.71</td>\n",
       "      <td>25b14b69de0b6e184ae6fe2755e478f9</td>\n",
       "      <td>delivered</td>\n",
       "      <td>2017-12-12 11:19:55</td>\n",
       "      <td>2017-12-14 09:52:34</td>\n",
       "      <td>2017-12-15 20:13:22</td>\n",
       "      <td>2017-12-18 17:24:41</td>\n",
       "      <td>2018-01-04 00:00:00</td>\n",
       "    </tr>\n",
       "    <tr>\n",
       "      <th>3</th>\n",
       "      <td>ba78997921bbcdc1373bb41e913ab953</td>\n",
       "      <td>1</td>\n",
       "      <td>credit_card</td>\n",
       "      <td>8</td>\n",
       "      <td>107.78</td>\n",
       "      <td>7a5d8efaaa1081f800628c30d2b0728f</td>\n",
       "      <td>delivered</td>\n",
       "      <td>2017-12-06 12:04:06</td>\n",
       "      <td>2017-12-06 12:13:20</td>\n",
       "      <td>2017-12-07 20:28:28</td>\n",
       "      <td>2017-12-21 01:35:51</td>\n",
       "      <td>2018-01-04 00:00:00</td>\n",
       "    </tr>\n",
       "    <tr>\n",
       "      <th>4</th>\n",
       "      <td>42fdf880ba16b47b59251dd489d4441a</td>\n",
       "      <td>1</td>\n",
       "      <td>credit_card</td>\n",
       "      <td>2</td>\n",
       "      <td>128.45</td>\n",
       "      <td>15fd6fb8f8312dbb4674e4518d6fa3b3</td>\n",
       "      <td>delivered</td>\n",
       "      <td>2018-05-21 13:59:17</td>\n",
       "      <td>2018-05-21 16:14:41</td>\n",
       "      <td>2018-05-22 11:46:00</td>\n",
       "      <td>2018-06-01 21:44:53</td>\n",
       "      <td>2018-06-13 00:00:00</td>\n",
       "    </tr>\n",
       "  </tbody>\n",
       "</table>\n",
       "</div>"
      ],
      "text/plain": [
       "                           order_id  payment_sequential payment_type  \\\n",
       "0  b81ef226f3fe1789b1e8b2acac839d17                   1  credit_card   \n",
       "1  a9810da82917af2d9aefd1278f1dcfa0                   1  credit_card   \n",
       "2  25e8ea4e93396b6fa0d3dd708e76c1bd                   1  credit_card   \n",
       "3  ba78997921bbcdc1373bb41e913ab953                   1  credit_card   \n",
       "4  42fdf880ba16b47b59251dd489d4441a                   1  credit_card   \n",
       "\n",
       "   payment_installments  payment_value                       customer_id  \\\n",
       "0                     8          99.33  0a8556ac6be836b46b3e89920d59291c   \n",
       "1                     1          24.39  f2c7fc58a9de810828715166c672f10a   \n",
       "2                     1          65.71  25b14b69de0b6e184ae6fe2755e478f9   \n",
       "3                     8         107.78  7a5d8efaaa1081f800628c30d2b0728f   \n",
       "4                     2         128.45  15fd6fb8f8312dbb4674e4518d6fa3b3   \n",
       "\n",
       "  order_status order_purchase_timestamp    order_approved_at  \\\n",
       "0    delivered      2018-04-25 22:01:49  2018-04-25 22:15:09   \n",
       "1    delivered      2018-06-26 11:01:38  2018-06-26 11:18:58   \n",
       "2    delivered      2017-12-12 11:19:55  2017-12-14 09:52:34   \n",
       "3    delivered      2017-12-06 12:04:06  2017-12-06 12:13:20   \n",
       "4    delivered      2018-05-21 13:59:17  2018-05-21 16:14:41   \n",
       "\n",
       "  order_delivered_carrier_date order_delivered_customer_date  \\\n",
       "0          2018-05-02 15:20:00           2018-05-09 17:36:51   \n",
       "1          2018-06-28 14:18:00           2018-06-29 20:32:09   \n",
       "2          2017-12-15 20:13:22           2017-12-18 17:24:41   \n",
       "3          2017-12-07 20:28:28           2017-12-21 01:35:51   \n",
       "4          2018-05-22 11:46:00           2018-06-01 21:44:53   \n",
       "\n",
       "  order_estimated_delivery_date  \n",
       "0           2018-05-22 00:00:00  \n",
       "1           2018-07-16 00:00:00  \n",
       "2           2018-01-04 00:00:00  \n",
       "3           2018-01-04 00:00:00  \n",
       "4           2018-06-13 00:00:00  "
      ]
     },
     "execution_count": 6,
     "metadata": {},
     "output_type": "execute_result"
    }
   ],
   "source": [
    "payments_orders_df.head()"
   ]
  },
  {
   "cell_type": "code",
   "execution_count": 7,
   "metadata": {},
   "outputs": [
    {
     "data": {
      "text/plain": [
       "order_id                          object\n",
       "payment_sequential                 int64\n",
       "payment_type                      object\n",
       "payment_installments               int64\n",
       "payment_value                    float64\n",
       "customer_id                       object\n",
       "order_status                      object\n",
       "order_purchase_timestamp          object\n",
       "order_approved_at                 object\n",
       "order_delivered_carrier_date      object\n",
       "order_delivered_customer_date     object\n",
       "order_estimated_delivery_date     object\n",
       "dtype: object"
      ]
     },
     "execution_count": 7,
     "metadata": {},
     "output_type": "execute_result"
    }
   ],
   "source": [
    "payments_orders_df.dtypes"
   ]
  },
  {
   "attachments": {},
   "cell_type": "markdown",
   "metadata": {},
   "source": [
    "### Cast data types"
   ]
  },
  {
   "cell_type": "code",
   "execution_count": 8,
   "metadata": {},
   "outputs": [
    {
     "data": {
      "text/plain": [
       "order_id                                 object\n",
       "payment_sequential                        int64\n",
       "payment_type                             object\n",
       "payment_installments                      int64\n",
       "payment_value                           float64\n",
       "customer_id                              object\n",
       "order_status                             object\n",
       "order_purchase_timestamp         datetime64[ns]\n",
       "order_approved_at                datetime64[ns]\n",
       "order_delivered_carrier_date     datetime64[ns]\n",
       "order_delivered_customer_date    datetime64[ns]\n",
       "order_estimated_delivery_date    datetime64[ns]\n",
       "dtype: object"
      ]
     },
     "execution_count": 8,
     "metadata": {},
     "output_type": "execute_result"
    }
   ],
   "source": [
    "date_time_cols = ['order_purchase_timestamp', 'order_approved_at', 'order_delivered_carrier_date', 'order_delivered_customer_date', 'order_estimated_delivery_date']\n",
    "\n",
    "for col in date_time_cols:\n",
    "    payments_orders_df[col] = pd.to_datetime(payments_orders_df[col])\n",
    "payments_orders_df.dtypes"
   ]
  },
  {
   "attachments": {},
   "cell_type": "markdown",
   "metadata": {},
   "source": [
    "### Util functions"
   ]
  },
  {
   "cell_type": "code",
   "execution_count": 9,
   "metadata": {},
   "outputs": [],
   "source": [
    "def calculate_psi(expected_percents: np.array, actual_percents: np.array) -> float:\n",
    "    # Clip freaquencies to avoid zero division\n",
    "    expected_percents = np.clip(expected_percents, a_min=0.0001, a_max=None)\n",
    "    actual_percents = np.clip(actual_percents, a_min=0.0001, a_max=None)\n",
    "    # Calculate PSI\n",
    "    psi_value = (expected_percents - actual_percents) * np.log(expected_percents / actual_percents)\n",
    "    psi_value = sum(psi_value)\n",
    "    return psi_value"
   ]
  },
  {
   "cell_type": "code",
   "execution_count": 10,
   "metadata": {},
   "outputs": [],
   "source": [
    "def create_equal_size_buckets(series: np.array, n_bins: int):\n",
    "    breakpoints = np.arange(0, n_bins + 1) / (n_bins)\n",
    "    series = pd.qcut(series, breakpoints, labels=np.linspace(1/n_bins, 1, n_bins), sort=True)\n",
    "    return series"
   ]
  },
  {
   "attachments": {},
   "cell_type": "markdown",
   "metadata": {},
   "source": [
    "### Create control and new datasets"
   ]
  },
  {
   "cell_type": "code",
   "execution_count": 11,
   "metadata": {},
   "outputs": [
    {
     "name": "stdout",
     "output_type": "stream",
     "text": [
      "(290, 12)\n",
      "(265, 12)\n"
     ]
    }
   ],
   "source": [
    "control_date = pd.to_datetime(\"2018-04-25 00:00:00\").date()\n",
    "new_date = pd.to_datetime(\"2018-04-26 00:00:00\").date()\n",
    "control_day_df = payments_orders_df[payments_orders_df.order_purchase_timestamp.dt.date == control_date]\n",
    "print(control_day_df.shape)\n",
    "new_day_df = payments_orders_df[payments_orders_df.order_purchase_timestamp.dt.date == new_date]\n",
    "print(new_day_df.shape)"
   ]
  },
  {
   "attachments": {},
   "cell_type": "markdown",
   "metadata": {},
   "source": [
    "### Calculate quantiles"
   ]
  },
  {
   "cell_type": "code",
   "execution_count": 12,
   "metadata": {},
   "outputs": [
    {
     "name": "stderr",
     "output_type": "stream",
     "text": [
      "/var/folders/6m/gdj6jpvn77l18qc6s98hkzb80000gn/T/ipykernel_9845/407110813.py:1: SettingWithCopyWarning: \n",
      "A value is trying to be set on a copy of a slice from a DataFrame.\n",
      "Try using .loc[row_indexer,col_indexer] = value instead\n",
      "\n",
      "See the caveats in the documentation: https://pandas.pydata.org/pandas-docs/stable/user_guide/indexing.html#returning-a-view-versus-a-copy\n",
      "  control_day_df['quantiles'] = pd.qcut(control_day_df.payment_value, np.linspace(0,1,11), labels=np.around(np.linspace(0.1,1,10), decimals=1))\n",
      "/var/folders/6m/gdj6jpvn77l18qc6s98hkzb80000gn/T/ipykernel_9845/407110813.py:2: SettingWithCopyWarning: \n",
      "A value is trying to be set on a copy of a slice from a DataFrame.\n",
      "Try using .loc[row_indexer,col_indexer] = value instead\n",
      "\n",
      "See the caveats in the documentation: https://pandas.pydata.org/pandas-docs/stable/user_guide/indexing.html#returning-a-view-versus-a-copy\n",
      "  new_day_df['quantiles'] = pd.qcut(new_day_df.payment_value, np.linspace(0,1,11), labels=np.around(np.linspace(0.1,1,10), decimals=1))\n"
     ]
    }
   ],
   "source": [
    "control_day_df['quantiles'] = pd.qcut(control_day_df.payment_value, np.linspace(0,1,11), labels=np.around(np.linspace(0.1,1,10), decimals=1))\n",
    "new_day_df['quantiles'] = pd.qcut(new_day_df.payment_value, np.linspace(0,1,11), labels=np.around(np.linspace(0.1,1,10), decimals=1))"
   ]
  },
  {
   "attachments": {},
   "cell_type": "markdown",
   "metadata": {},
   "source": [
    "### Calculate PSI"
   ]
  },
  {
   "cell_type": "code",
   "execution_count": 13,
   "metadata": {},
   "outputs": [],
   "source": [
    "new_sum = new_day_df['payment_value'].sum()\n",
    "control_sum = control_day_df['payment_value'].sum()\n",
    "new_percents = new_day_df.groupby('quantiles')['payment_value'].sum() / new_sum\n",
    "control_percents = control_day_df.groupby('quantiles')['payment_value'].sum() / control_sum"
   ]
  },
  {
   "cell_type": "code",
   "execution_count": 14,
   "metadata": {},
   "outputs": [
    {
     "data": {
      "text/plain": [
       "0.014815127394085234"
      ]
     },
     "execution_count": 14,
     "metadata": {},
     "output_type": "execute_result"
    }
   ],
   "source": [
    "calculate_psi(control_percents.values, new_percents.values)"
   ]
  }
 ],
 "metadata": {
  "kernelspec": {
   "display_name": "data-quality-lab",
   "language": "python",
   "name": "python3"
  },
  "language_info": {
   "codemirror_mode": {
    "name": "ipython",
    "version": 3
   },
   "file_extension": ".py",
   "mimetype": "text/x-python",
   "name": "python",
   "nbconvert_exporter": "python",
   "pygments_lexer": "ipython3",
   "version": "3.10.10"
  },
  "orig_nbformat": 4
 },
 "nbformat": 4,
 "nbformat_minor": 2
}
